{
 "cells": [
  {
   "cell_type": "code",
   "execution_count": 2,
   "metadata": {},
   "outputs": [],
   "source": [
    "from instruments import Voltmeter,Sourcemeter,VSourcemeter,MercuryiTC,MercuryiPS\n",
    "from instrument_group import InstrumentGroup\n",
    "import pyvisa\n",
    "from time import sleep"
   ]
  },
  {
   "cell_type": "markdown",
   "metadata": {},
   "source": [
    "### See available instruments"
   ]
  },
  {
   "cell_type": "code",
   "execution_count": 3,
   "metadata": {},
   "outputs": [],
   "source": [
    "rm = pyvisa.ResourceManager()\n",
    "inst = rm.list_resources()\n",
    "print(inst)"
   ]
  },
  {
   "cell_type": "markdown",
   "metadata": {},
   "source": [
    "### Initialize instruments and create the instrument group"
   ]
  },
  {
   "cell_type": "code",
   "execution_count": null,
   "metadata": {},
   "outputs": [],
   "source": [
    "# Initialise all instruments and create the instrument group. Add instruments you need, comment out instruments not being used.\n",
    "\n",
    "voltmeters = [\n",
    "    (\"A\",Voltmeter('GPIB0::6::INSTR')),\n",
    "    (\"B\",Voltmeter('GPIB0::12::INSTR')),\n",
    "    (\"C\",Voltmeter('GPIB0::22::INSTR')),\n",
    "    (\"D\",Voltmeter('GPIB0::25::INSTR')),\n",
    "    ]\n",
    "sourcemeters = [\n",
    "    (\"A\",Sourcemeter('GPIB0::5::INSTR')),\n",
    "    (\"B\",Sourcemeter('GPIB0::11::INSTR')),\n",
    "    ]\n",
    "Vsourcemeters = [\n",
    "    (\"A\",VSourcemeter('GPIB0::23::INSTR')),\n",
    "    (\"B\",VSourcemeter('GPIB0::24::INSTR')),\n",
    "    ]\n",
    "iTC = MercuryiTC('ASRL7::INSTR')\n",
    "iPS = MercuryiPS('ASRL8::INSTR')\n",
    "IG = InstrumentGroup(voltmeters, sourcemeters, Vsourcemeters, iTC, iPS)"
   ]
  },
  {
   "cell_type": "markdown",
   "metadata": {},
   "source": [
    "### Run your script"
   ]
  },
  {
   "cell_type": "code",
   "execution_count": null,
   "metadata": {},
   "outputs": [],
   "source": [
    "### Valid commands are:\n",
    "# sleep(seconds)\n",
    "# IG.ramp_T(filename,controller,temp,rate,threshold=0.05,timeout_hours=12) # controller is 'VTI', 'probe', or 'both', rate is in K/min"
   ]
  },
  {
   "cell_type": "code",
   "execution_count": null,
   "metadata": {},
   "outputs": [],
   "source": []
  }
 ],
 "metadata": {
  "kernelspec": {
   "display_name": "Python 3",
   "language": "python",
   "name": "python3"
  },
  "language_info": {
   "codemirror_mode": {
    "name": "ipython",
    "version": 3
   },
   "file_extension": ".py",
   "mimetype": "text/x-python",
   "name": "python",
   "nbconvert_exporter": "python",
   "pygments_lexer": "ipython3",
   "version": "3.11.5"
  },
  "orig_nbformat": 4
 },
 "nbformat": 4,
 "nbformat_minor": 2
}

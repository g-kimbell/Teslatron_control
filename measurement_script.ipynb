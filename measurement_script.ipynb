{
 "cells": [
  {
   "cell_type": "code",
   "execution_count": 1,
   "metadata": {},
   "outputs": [],
   "source": [
    "from instruments import Voltmeter,Sourcemeter,VSourcemeter,MercuryiTC,MercuryiPS\n",
    "from instrument_group import InstrumentGroup\n",
    "import pyvisa\n",
    "from time import sleep"
   ]
  },
  {
   "cell_type": "markdown",
   "metadata": {},
   "source": [
    "# See available instruments"
   ]
  },
  {
   "cell_type": "code",
   "execution_count": 3,
   "metadata": {},
   "outputs": [],
   "source": [
    "rm = pyvisa.ResourceManager()\n",
    "inst = rm.list_resources()\n",
    "print(inst)"
   ]
  },
  {
   "cell_type": "markdown",
   "metadata": {},
   "source": [
    "# Initialize instruments and create the instrument group"
   ]
  },
  {
   "cell_type": "code",
   "execution_count": null,
   "metadata": {},
   "outputs": [],
   "source": [
    "# Initialise all instruments and create the instrument group.\n",
    "# Add instruments you need, comment out instruments not being used.\n",
    "\n",
    "voltmeters = [\n",
    "    (\"A\",Voltmeter('GPIB0::6::INSTR')),\n",
    "    (\"B\",Voltmeter('GPIB0::12::INSTR')),\n",
    "    (\"C\",Voltmeter('GPIB0::22::INSTR')),\n",
    "    (\"D\",Voltmeter('GPIB0::25::INSTR')),\n",
    "    ]\n",
    "sourcemeters = [\n",
    "    (\"A\",Sourcemeter('GPIB0::5::INSTR')),\n",
    "    (\"B\",Sourcemeter('GPIB0::11::INSTR')),\n",
    "    ]\n",
    "Vsourcemeters = [\n",
    "    (\"A\",VSourcemeter('GPIB0::23::INSTR')),\n",
    "    (\"B\",VSourcemeter('GPIB0::24::INSTR')),\n",
    "    ]\n",
    "iTC = MercuryiTC('ASRL7::INSTR')\n",
    "iPS = MercuryiPS('ASRL8::INSTR')\n",
    "IG = InstrumentGroup(voltmeters, sourcemeters, Vsourcemeters, iTC, iPS)"
   ]
  },
  {
   "cell_type": "markdown",
   "metadata": {},
   "source": [
    "# Valid commands:\n",
    "\n",
    "### Measurements\n",
    "\n",
    "Measure continuously  \n",
    "```IG.measure_until_interrupted(filename,timeout_hours=12)```\n",
    "\n",
    "Ramp temperature. Controller is 'VTI', 'probe', or 'both', Ts are in K, rate is in K/min  \n",
    "```IG.ramp_T(filename,controller,Ts,rates,threshold=0.05,base_T_threshold=0.005,timeout_hours=12)```\n",
    "\n",
    "Set temperature. Controller is 'VTI', 'probe', or 'both', T is in K  \n",
    "```IG.set_T(filename,controller,T,threshold=0.05,base_T_threshold=0.005,timeout_hours=12)```\n",
    "\n",
    "Ramp magnetic field. Bs are in T, rate is in T/min  \n",
    "```IG.ramp_B(filename,Bs,rates,threshold=0.005,timeout_hours=12)```\n",
    "\n",
    "Set backgate. Vgs are in V, compliance is in A  \n",
    "```IG.set_Vg(filename,Vgs,compliance=5e-7,wait=0.1)```\n",
    "\n",
    "Set current and measure, Is are in A, compliance is in V  \n",
    "```IG.perform_IV(filename,Is,compliance=5,wait=0.1)```\n",
    "\n",
    "### Others\n",
    "\n",
    "```sleep(seconds)```\n",
    "\n",
    "Set current, I is in A, compliance is in V  \n",
    "```IG.set_current(I,compliance=5)```"
   ]
  },
  {
   "cell_type": "markdown",
   "metadata": {},
   "source": [
    "# Run your script\n",
    "\n",
    "An example is shown below"
   ]
  },
  {
   "cell_type": "code",
   "execution_count": null,
   "metadata": {},
   "outputs": [],
   "source": [
    "folder = \"my_folder/\"\n",
    "comment = \"A description of my sample.\"\n",
    "\n",
    "# perform a log spaced IV\n",
    "filename=folder+\"my_sample_IV_roomT.txt\"\n",
    "Is = np.logspace(-9,-5,100)\n",
    "IG.perform_IV(filename,Is,compliance=5,wait=0.1,comment=comment)\n",
    "\n",
    "# cooldown to base temperature\n",
    "filename=folder+\"my_sample_cooldown.txt\"\n",
    "IG.set_current(1e-6)\n",
    "IG.set_T(filename,\"both\",0,comment=comment)\n",
    "\n",
    "# perform an IV at base temperature\n",
    "filename=folder+\"my_sample_IV_baseT.txt\"\n",
    "Is = np.logspace(-9,-5,100)\n",
    "IG.perform_IV(filename,Is,compliance=5,wait=0.1,comment=comment)\n",
    "\n",
    "# set the temperature to 5K\n",
    "filename=\"_\"\n",
    "IG.set_T(filename,\"both\",5,comment=comment)\n",
    "sleep(600) # wait 10 minutes\n",
    "\n",
    "# sweep the gate voltage back and forth\n",
    "IG.set_current(1e-6)\n",
    "Vgs=np.concatenate([\n",
    "    np.linspace(0,-50,51),\n",
    "    np.linspace(-50,50,101),\n",
    "    np.linspace(50,-100,151),\n",
    "    np.linspace(-100,100,201),\n",
    "    np.linspace(100,-150,251),\n",
    "    np.linspace(-150,150,301),\n",
    "    np.linspace(150,-200,351),\n",
    "    np.linspace(-200,200,401),\n",
    "    np.linspace(200,-200,401),\n",
    "    np.linspace(-200,200,401),\n",
    "    np.linspace(200,-200,401),\n",
    "    -200*np.ones(500)\n",
    "])\n",
    "filename=folder+\"my_sample_backgate-sweep.txt\"\n",
    "IG.set_Vg(filename,Vgs,comment=comment)\n",
    "\n",
    "# setpoints for the VTI heater\n",
    "VTI_heater_setpoints=np.concatenate([\n",
    "                                     0*np.ones(100),\n",
    "                                     np.linspace(0,0.8,800), \n",
    "                                     0.8*np.ones(100), \n",
    "                                     np.linspace(0.8,0,800),\n",
    "                                      0*np.ones(100),\n",
    "                                   ])\n",
    "\n",
    "# go to different gate voltages, perform a temperature sweep and magnetic field sweep\n",
    "for Vg in [-200,-150,-100,-50,0,50,100,150,200]:\n",
    "    # Set backgate and wait 30 minutes\n",
    "    IG.set_Vg(folder+\"_.txt\",Vg)\n",
    "    sleep(1800)\n",
    "\n",
    "    # Do a temperature sweep with heater directly\n",
    "    filename=folder+f\"my_sample_RT_Vg={Vg}V.txt\"\n",
    "    IG.ramp_heater(filename,0,VTI_heater_setpoints,comment=comment)\n",
    "\n",
    "    sleep(120)\n",
    "    \n",
    "    # Sweep the magnetic field\n",
    "    filename=folder+f\"my_sample_RB_Vg={Vg}V.txt\"\n",
    "    IG.ramp_B(filename,[12,-12,0],rates=0.3,comment=comment)"
   ]
  }
 ],
 "metadata": {
  "kernelspec": {
   "display_name": "Python 3",
   "language": "python",
   "name": "python3"
  },
  "language_info": {
   "codemirror_mode": {
    "name": "ipython",
    "version": 3
   },
   "file_extension": ".py",
   "mimetype": "text/x-python",
   "name": "python",
   "nbconvert_exporter": "python",
   "pygments_lexer": "ipython3",
   "version": "3.11.6"
  },
  "orig_nbformat": 4
 },
 "nbformat": 4,
 "nbformat_minor": 2
}
